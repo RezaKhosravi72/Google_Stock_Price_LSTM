{
 "cells": [
  {
   "cell_type": "markdown",
   "id": "90ae16a6-3e91-4a5d-b636-fb234292ef0f",
   "metadata": {},
   "source": [
    "## How to find an online sources for the Dataset needed"
   ]
  },
  {
   "cell_type": "markdown",
   "id": "67f14143-eb30-4183-aebb-7dc0529e4c70",
   "metadata": {},
   "source": [
    "Here are some potential sources to find daily stock price data for Google from 2012-2016:\n",
    "\n",
    "- Yahoo Finance: Has historical daily stock prices for many companies. You can download Google's daily price data as a CSV from 2012-2016 using their website.\n",
    "\n",
    "URL: https://finance.yahoo.com/quote/GOOG/history?period1=1325376000&period2=1483228800&interval=1d&filter=history&frequency=1d\n",
    "\n",
    "- Quandl: Large stock/financial database. Has Google's adjusted closing prices from 2012-2016 as a CSV for free download. \n",
    "\n",
    "URL: https://www.quandl.com/data/GOOGLE-Google-Inc-Stock-Prices-and-Financials/documentation/data-csv-download\n",
    "\n",
    "- AlphaVantage: Free API for financial data. You can programmatically request and save Google's daily prices for the required period as CSV.\n",
    "\n",
    "APIkey: https://www.alphavantage.co/documentation/\n",
    "\n",
    "- Kaggle datasets: User-submitted public datasets. Some contain stock price histories like Google's that you can directly download.\n",
    "\n",
    "Search: https://www.kaggle.com/datasets\n",
    "\n",
    "- Wharton Research Data Services (WRDS): Access to WRDS databases requires academic/corporate license but has comprehensive financial data.\n",
    "\n",
    "Database: https://wrds-web.wharton.upenn.edu/wrds/\n",
    "\n",
    "Let me know if you need help accessing or formatting any of these daily price sources for your project."
   ]
  }
 ],
 "metadata": {
  "kernelspec": {
   "display_name": "Python 3 (ipykernel)",
   "language": "python",
   "name": "python3"
  },
  "language_info": {
   "codemirror_mode": {
    "name": "ipython",
    "version": 3
   },
   "file_extension": ".py",
   "mimetype": "text/x-python",
   "name": "python",
   "nbconvert_exporter": "python",
   "pygments_lexer": "ipython3",
   "version": "3.11.5"
  }
 },
 "nbformat": 4,
 "nbformat_minor": 5
}
