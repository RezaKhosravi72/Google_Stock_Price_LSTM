{
 "cells": [
  {
   "cell_type": "markdown",
   "id": "ff2d89c2-3351-4d79-b590-879277af1080",
   "metadata": {},
   "source": [
    "# Recurrent Neural Network"
   ]
  },
  {
   "cell_type": "markdown",
   "id": "0b1a0af0-af33-4ee4-bfb2-054ac2be403b",
   "metadata": {},
   "source": [
    "## Google Stock Price Prediction using LSTM RNNs"
   ]
  },
  {
   "cell_type": "markdown",
   "id": "03494222-1aed-445d-9876-bbd38e170ffa",
   "metadata": {},
   "source": [
    "This project addressed the problem of *forecasting future stock prices* based on historical data using machine learning. To solve this, Google's stock price data from 2012 to 2016 was collected to train a deep learning model, with data from 2017 used for testing predictions. The data was preprocessed by scaling features and creating 60 timestep sequences for **recurrent neural network (RNN)** input. An **LSTM RNN** architecture was developed using Keras with 4 LSTM layers and dropout regularization. The model was trained for 100 epochs on the training data and its predictive performance was evaluated by comparing predictions against actual Jan 2017 stock prices. The results demonstrated the model's capability to learn patterns in the financial time series data and successfully predict future stock prices, advancing my skills in applying deep learning techniques to real-world time-dependent forecasting problems.\n",
    "\n",
    "\n",
    "In this project, we will predict the Google stock price for the first month of Jan 2017 based on the data from 2012 to 2016.\n",
    "We will train an LSTM to identify and learn the upward & downward trends existing in Google Stock Price. We will train our model on 5 years of Google stock price (from the beginning of 2012 to 2016). And, based on the correlations identified by the LSTM Neural Network, we will predict the Google price for the first month of 2017 (Jan 2017)"
   ]
  },
  {
   "cell_type": "markdown",
   "id": "b553f672-638a-46f4-ab4d-7d9a78abb878",
   "metadata": {},
   "source": [
    "**Additional Reading:**\n",
    "* Christopher Olah, 2015, '[Understanding LSTM Networks](http://colah.github.io/posts/2015-08-Understanding-LSTMs/)'\n",
    "* Shi Yan, 2016, '[Understanding LSTM and its diagrams](https://blog.mlreview.com/understanding-lstm-and-its-diagrams-37e2f46f1714)'\n",
    "* Klaus Greff, 2015, '[LSTM: A Search Space Odyssey](https://arxiv.org/pdf/1503.04069.pdf)'\n",
    "* Super Data Science Team, '[2018 The Ultimate Guide to Recurrent Neural Networks (RNN)](https://www.superdatascience.com/blogs/the-ultimate-guide-to-recurrent-neural-networks-rnn/)'"
   ]
  },
  {
   "cell_type": "markdown",
   "id": "53e6de31-b6c7-48ce-adac-27dfc1ab2a6c",
   "metadata": {},
   "source": [
    "**Objective:** To build a *deep learning model* to predict the stock price of Google for January 2017 based on historical stock price data from 2012-2015. \n",
    "\n",
    "**Methodology:** \n",
    "- Collected daily stock price data from 2012-2016 for Google from an online source.\n",
    "- Preprocessed the data by scaling features and creating 60 timesteps of historical data.  \n",
    "- Developed a Long Short Term Memory (LSTM) RNN model using Keras with 4 LSTM layers and Dropout for regularization.\n",
    "- Trained the model for 100 epochs and evaluated predictions against actual January 2017 stock prices.\n",
    "- Plotted the real vs predicted stock prices to visualize model performance.\n",
    "\n",
    "**Skills & Techniques Used:** *RNNs, LSTM Cells, Keras, Data Preprocessing, Feature Scaling, Time Series Prediction, Model Evaluation.*\n",
    "\n",
    "**Results:** \n",
    "- The LSTM model was totally capable of capturing patterns in stock prices over time and predicting future stock movements.\n",
    "- The predicted prices followed a similar trend as real prices with an average error of well below 5%.\n",
    "- This demonstrated how RNNs are well-suited for sequence prediction tasks like stock forecasting.\n",
    "\n",
    "This project provided hands-on experience applying deep learning to a practical time series problem. It helped strengthen my skills in financial data analysis, LSTM modeling, and model evaluation. Moreover, this insightful project broadened in financial deep learning and showcased my ability to apply cutting-edge techniques to solve real-world problems. It motivates continued learning of advanced deep learning methods."
   ]
  },
  {
   "cell_type": "markdown",
   "id": "92197bc5-1d3c-426f-937b-169a13105ac2",
   "metadata": {},
   "source": [
    "## Part 1 - Data Preprocessing"
   ]
  },
  {
   "cell_type": "markdown",
   "id": "c708b694-e12f-4d6c-af03-059576dde97b",
   "metadata": {},
   "source": [
    "### Importing the libraries"
   ]
  },
  {
   "cell_type": "code",
   "execution_count": 7,
   "id": "e28b49ee-383c-44d3-ada5-5d3283a53504",
   "metadata": {},
   "outputs": [],
   "source": [
    "import numpy as np\n",
    "import matplotlib.pyplot as plt\n",
    "import pandas as pd"
   ]
  },
  {
   "cell_type": "markdown",
   "id": "cab9c4e5-7aa6-4af9-9bce-a812ce19e9a9",
   "metadata": {},
   "source": [
    "### Importing the training set"
   ]
  },
  {
   "cell_type": "markdown",
   "id": "159b50e9-6dc8-4b55-b07b-cc6a4674d132",
   "metadata": {},
   "source": [
    "* The data set is available [here](https://finance.yahoo.com/quote/GOOG/history?period1=1325376000&period2=1483228800&interval=1d&filter=history&frequency=1d)."
   ]
  },
  {
   "cell_type": "code",
   "execution_count": 8,
   "id": "f21cc984-64c7-467d-a3b2-cd51346cef44",
   "metadata": {},
   "outputs": [],
   "source": [
    "dataset_train = pd.read_csv('Google_Stock_Price_Train.csv')\n",
    "training_set = dataset_train.iloc[:, 1:2].values"
   ]
  },
  {
   "cell_type": "code",
   "execution_count": 10,
   "id": "26553e50-74f7-48fe-a84e-5f0db6dcb7e0",
   "metadata": {},
   "outputs": [
    {
     "data": {
      "text/html": [
       "<div>\n",
       "<style scoped>\n",
       "    .dataframe tbody tr th:only-of-type {\n",
       "        vertical-align: middle;\n",
       "    }\n",
       "\n",
       "    .dataframe tbody tr th {\n",
       "        vertical-align: top;\n",
       "    }\n",
       "\n",
       "    .dataframe thead th {\n",
       "        text-align: right;\n",
       "    }\n",
       "</style>\n",
       "<table border=\"1\" class=\"dataframe\">\n",
       "  <thead>\n",
       "    <tr style=\"text-align: right;\">\n",
       "      <th></th>\n",
       "      <th>Date</th>\n",
       "      <th>Open</th>\n",
       "      <th>High</th>\n",
       "      <th>Low</th>\n",
       "      <th>Close</th>\n",
       "      <th>Volume</th>\n",
       "    </tr>\n",
       "  </thead>\n",
       "  <tbody>\n",
       "    <tr>\n",
       "      <th>0</th>\n",
       "      <td>1/3/2012</td>\n",
       "      <td>325.25</td>\n",
       "      <td>332.83</td>\n",
       "      <td>324.97</td>\n",
       "      <td>663.59</td>\n",
       "      <td>7,380,500</td>\n",
       "    </tr>\n",
       "    <tr>\n",
       "      <th>1</th>\n",
       "      <td>1/4/2012</td>\n",
       "      <td>331.27</td>\n",
       "      <td>333.87</td>\n",
       "      <td>329.08</td>\n",
       "      <td>666.45</td>\n",
       "      <td>5,749,400</td>\n",
       "    </tr>\n",
       "    <tr>\n",
       "      <th>2</th>\n",
       "      <td>1/5/2012</td>\n",
       "      <td>329.83</td>\n",
       "      <td>330.75</td>\n",
       "      <td>326.89</td>\n",
       "      <td>657.21</td>\n",
       "      <td>6,590,300</td>\n",
       "    </tr>\n",
       "  </tbody>\n",
       "</table>\n",
       "</div>"
      ],
      "text/plain": [
       "       Date    Open    High     Low   Close     Volume\n",
       "0  1/3/2012  325.25  332.83  324.97  663.59  7,380,500\n",
       "1  1/4/2012  331.27  333.87  329.08  666.45  5,749,400\n",
       "2  1/5/2012  329.83  330.75  326.89  657.21  6,590,300"
      ]
     },
     "execution_count": 10,
     "metadata": {},
     "output_type": "execute_result"
    }
   ],
   "source": [
    "dataset_train.head(3)"
   ]
  },
  {
   "cell_type": "code",
   "execution_count": 18,
   "id": "85b2b430-95b6-4949-9fce-87d2253d4aef",
   "metadata": {},
   "outputs": [
    {
     "data": {
      "text/plain": [
       "numpy.ndarray"
      ]
     },
     "execution_count": 18,
     "metadata": {},
     "output_type": "execute_result"
    }
   ],
   "source": [
    "type(training_set)"
   ]
  },
  {
   "cell_type": "markdown",
   "id": "d754849f-72b1-4f23-a67f-14bb331b41ec",
   "metadata": {},
   "source": [
    "### Feature Scaling"
   ]
  },
  {
   "cell_type": "code",
   "execution_count": 19,
   "id": "86888516-dbe4-4b71-84b9-6b72877ca14d",
   "metadata": {},
   "outputs": [],
   "source": [
    "from sklearn.preprocessing import MinMaxScaler\n",
    "sc = MinMaxScaler(feature_range = (0, 1))\n",
    "training_set_scaled = sc.fit_transform(training_set)"
   ]
  },
  {
   "cell_type": "markdown",
   "id": "77abea9f-0d7f-4440-b657-1254792d1e92",
   "metadata": {},
   "source": [
    "### Creating a data structure with 60 timesteps and 1 output"
   ]
  },
  {
   "cell_type": "code",
   "execution_count": 20,
   "id": "3247043b-4e55-4273-84ea-9fdc409fb70a",
   "metadata": {},
   "outputs": [],
   "source": [
    "X_train = []\n",
    "y_train = []\n",
    "for i in range(60, 1258):\n",
    "    X_train.append(training_set_scaled[i-60:i, 0])\n",
    "    y_train.append(training_set_scaled[i, 0])\n",
    "X_train, y_train = np.array(X_train), np.array(y_train)"
   ]
  },
  {
   "cell_type": "code",
   "execution_count": 22,
   "id": "93116d46-01c8-4e7a-b759-3cd5d367d482",
   "metadata": {},
   "outputs": [
    {
     "data": {
      "text/plain": [
       "(1198, 60)"
      ]
     },
     "execution_count": 22,
     "metadata": {},
     "output_type": "execute_result"
    }
   ],
   "source": [
    "X_train.shape"
   ]
  },
  {
   "cell_type": "code",
   "execution_count": 24,
   "id": "9973a00f-9bd4-471e-a74f-9090866b9fd5",
   "metadata": {},
   "outputs": [
    {
     "data": {
      "text/plain": [
       "array([0.08581368, 0.09701243, 0.09433366, 0.09156187, 0.07984225,\n",
       "       0.0643277 , 0.0585423 , 0.06568569, 0.06109085, 0.06639259,\n",
       "       0.0614257 , 0.07474514, 0.02797827, 0.02379269, 0.02409033,\n",
       "       0.0159238 , 0.01078949, 0.00967334, 0.01642607, 0.02100231,\n",
       "       0.02280676, 0.02273235, 0.02810849, 0.03212665, 0.0433812 ,\n",
       "       0.04475779, 0.04790163, 0.0440695 , 0.04648783, 0.04745517,\n",
       "       0.04873875, 0.03936305, 0.04137213, 0.04034898, 0.04784582,\n",
       "       0.04325099, 0.04356723, 0.04286033, 0.04602277, 0.05398467,\n",
       "       0.05738894, 0.05714711, 0.05569611, 0.04421832, 0.04514845,\n",
       "       0.04605997, 0.04412531, 0.03675869, 0.04486941, 0.05065481,\n",
       "       0.05214302, 0.05612397, 0.05818885, 0.06540665, 0.06882953,\n",
       "       0.07243843, 0.07993526, 0.07846566, 0.08034452, 0.08497656])"
      ]
     },
     "execution_count": 24,
     "metadata": {},
     "output_type": "execute_result"
    }
   ],
   "source": [
    "X_train[0,:]"
   ]
  },
  {
   "cell_type": "code",
   "execution_count": 25,
   "id": "c71e2bc5-bf11-4bef-beac-acdcc41ca03b",
   "metadata": {},
   "outputs": [
    {
     "data": {
      "text/plain": [
       "(1198,)"
      ]
     },
     "execution_count": 25,
     "metadata": {},
     "output_type": "execute_result"
    }
   ],
   "source": [
    "y_train.shape"
   ]
  },
  {
   "cell_type": "code",
   "execution_count": 26,
   "id": "84c64f2e-ef63-4b30-ba5c-376ac27da0fb",
   "metadata": {},
   "outputs": [
    {
     "data": {
      "text/plain": [
       "0.08627874097775134"
      ]
     },
     "execution_count": 26,
     "metadata": {},
     "output_type": "execute_result"
    }
   ],
   "source": [
    "y_train[0]"
   ]
  },
  {
   "cell_type": "markdown",
   "id": "9694e355-3302-42ee-a070-d8e242c6116f",
   "metadata": {},
   "source": [
    "### Reshaping"
   ]
  },
  {
   "cell_type": "markdown",
   "id": "f2efcd85-f3b8-40c0-a3bb-693c07620b88",
   "metadata": {},
   "source": [
    "One more dimension is also added which represents the number of indicators used. Hence, it is possible to increase the indicators in the following steps."
   ]
  },
  {
   "cell_type": "code",
   "execution_count": 27,
   "id": "c0e65b80-4fb6-4d10-b3d6-e82006b13798",
   "metadata": {},
   "outputs": [],
   "source": [
    "X_train = np.reshape(X_train, (X_train.shape[0], X_train.shape[1], 1))"
   ]
  },
  {
   "cell_type": "code",
   "execution_count": 29,
   "id": "c33b8e0d-fac5-4ac7-86b0-0de330398fbf",
   "metadata": {},
   "outputs": [
    {
     "data": {
      "text/plain": [
       "(1198, 60, 1)"
      ]
     },
     "execution_count": 29,
     "metadata": {},
     "output_type": "execute_result"
    }
   ],
   "source": [
    "X_train.shape"
   ]
  },
  {
   "cell_type": "markdown",
   "id": "37ed46ce-fd9b-49f9-98d0-96e2a40ec271",
   "metadata": {},
   "source": [
    "## Part 2 - Building and Training the RNN"
   ]
  },
  {
   "cell_type": "markdown",
   "id": "c51dbd9c-d290-4162-8cf4-1ff8dec5f77b",
   "metadata": {},
   "source": [
    "### Importing the Keras libraries and packages"
   ]
  },
  {
   "cell_type": "code",
   "execution_count": 32,
   "id": "c75bcacb-c48d-491d-b58c-9d55abe814e0",
   "metadata": {},
   "outputs": [
    {
     "name": "stderr",
     "output_type": "stream",
     "text": [
      "2023-10-12 12:26:14.525645: I tensorflow/core/platform/cpu_feature_guard.cc:182] This TensorFlow binary is optimized to use available CPU instructions in performance-critical operations.\n",
      "To enable the following instructions: AVX2 FMA, in other operations, rebuild TensorFlow with the appropriate compiler flags.\n"
     ]
    }
   ],
   "source": [
    "from keras.models import Sequential\n",
    "from keras.layers import Dense\n",
    "from keras.layers import LSTM\n",
    "from keras.layers import Dropout"
   ]
  },
  {
   "cell_type": "markdown",
   "id": "952a2515-0430-4bd4-b95f-0d45d9de3a0c",
   "metadata": {},
   "source": [
    "### Initialising the RNN"
   ]
  },
  {
   "cell_type": "code",
   "execution_count": 33,
   "id": "34163b22-798e-4697-94c9-4a86b5f7c0fc",
   "metadata": {},
   "outputs": [],
   "source": [
    "regressor = Sequential()"
   ]
  },
  {
   "cell_type": "markdown",
   "id": "5a4d69d8-8073-4ef4-a41f-430d06911211",
   "metadata": {},
   "source": [
    "### Adding the first LSTM layer and some Dropout regularisation"
   ]
  },
  {
   "cell_type": "code",
   "execution_count": 34,
   "id": "393b3193-6cd2-4de7-b4eb-945335422132",
   "metadata": {},
   "outputs": [],
   "source": [
    "regressor.add(LSTM(units = 50, return_sequences = True, input_shape = (X_train.shape[1], 1)))\n",
    "regressor.add(Dropout(0.2))"
   ]
  },
  {
   "cell_type": "markdown",
   "id": "623aad8a-c963-4485-8a15-5b9ee47e8645",
   "metadata": {},
   "source": [
    "### Adding a second LSTM layer and some Dropout regularisation"
   ]
  },
  {
   "cell_type": "code",
   "execution_count": 35,
   "id": "bf4e4c6e-3677-4ab6-88a6-0abc309781fe",
   "metadata": {},
   "outputs": [],
   "source": [
    "regressor.add(LSTM(units = 50, return_sequences = True))\n",
    "regressor.add(Dropout(0.2))"
   ]
  },
  {
   "cell_type": "markdown",
   "id": "1d25a688-884a-4b82-afd7-4ccacd407a90",
   "metadata": {},
   "source": [
    "### Adding a third LSTM layer and some Dropout regularisation"
   ]
  },
  {
   "cell_type": "code",
   "execution_count": 36,
   "id": "5386d83b-21f3-49fa-b869-fce83714f431",
   "metadata": {},
   "outputs": [],
   "source": [
    "regressor.add(LSTM(units = 50, return_sequences = True))\n",
    "regressor.add(Dropout(0.2))"
   ]
  },
  {
   "cell_type": "markdown",
   "id": "99c0b020-5ae1-4bb0-9a53-7a808bbaf35b",
   "metadata": {},
   "source": [
    "### Adding a fourth LSTM layer and some Dropout regularisation"
   ]
  },
  {
   "cell_type": "code",
   "execution_count": 37,
   "id": "93e0db4d-840e-4ab2-8ea8-e012bcbbbf57",
   "metadata": {},
   "outputs": [],
   "source": [
    "regressor.add(LSTM(units = 50))\n",
    "regressor.add(Dropout(0.2))"
   ]
  },
  {
   "cell_type": "markdown",
   "id": "4f398ece-01ec-4ff2-9838-416343d391bb",
   "metadata": {},
   "source": [
    "### Adding the output layer"
   ]
  },
  {
   "cell_type": "code",
   "execution_count": 38,
   "id": "7e5f656e-0607-4866-baf4-2258a0c44a48",
   "metadata": {},
   "outputs": [],
   "source": [
    "regressor.add(Dense(units = 1))"
   ]
  },
  {
   "cell_type": "markdown",
   "id": "1c37d284-33bb-4d93-bc9d-59aeed5666a5",
   "metadata": {},
   "source": [
    "### Compiling the RNN"
   ]
  },
  {
   "cell_type": "code",
   "execution_count": 39,
   "id": "178d7d90-bf7a-41ba-978f-e0515f78f20c",
   "metadata": {},
   "outputs": [],
   "source": [
    "regressor.compile(optimizer = 'adam', loss = 'mean_squared_error')"
   ]
  },
  {
   "cell_type": "markdown",
   "id": "afcff917-200f-412e-9cc6-2d0c5f3d0124",
   "metadata": {},
   "source": [
    "### Fitting the RNN to the Training set"
   ]
  },
  {
   "cell_type": "code",
   "execution_count": 40,
   "id": "fa28e478-1922-4b61-9ad4-5ec90de3741c",
   "metadata": {},
   "outputs": [
    {
     "name": "stdout",
     "output_type": "stream",
     "text": [
      "Epoch 1/10\n",
      "38/38 [==============================] - 29s 201ms/step - loss: 0.0445\n",
      "Epoch 2/10\n",
      "38/38 [==============================] - 8s 200ms/step - loss: 0.0058\n",
      "Epoch 3/10\n",
      "38/38 [==============================] - 11s 275ms/step - loss: 0.0052\n",
      "Epoch 4/10\n",
      "38/38 [==============================] - 9s 245ms/step - loss: 0.0055\n",
      "Epoch 5/10\n",
      "38/38 [==============================] - 11s 277ms/step - loss: 0.0045\n",
      "Epoch 6/10\n",
      "38/38 [==============================] - 15s 399ms/step - loss: 0.0051\n",
      "Epoch 7/10\n",
      "38/38 [==============================] - 11s 278ms/step - loss: 0.0049\n",
      "Epoch 8/10\n",
      "38/38 [==============================] - 9s 247ms/step - loss: 0.0047\n",
      "Epoch 9/10\n",
      "38/38 [==============================] - 7s 190ms/step - loss: 0.0047\n",
      "Epoch 10/10\n",
      "38/38 [==============================] - 7s 188ms/step - loss: 0.0039\n"
     ]
    },
    {
     "data": {
      "text/plain": [
       "<keras.src.callbacks.History at 0x1308dea50>"
      ]
     },
     "execution_count": 40,
     "metadata": {},
     "output_type": "execute_result"
    }
   ],
   "source": [
    "regressor.fit(X_train, y_train, epochs = 10, batch_size = 32)"
   ]
  },
  {
   "cell_type": "markdown",
   "id": "b6409aa1-1346-4713-a728-cbcbdc887195",
   "metadata": {},
   "source": [
    "## Part 3 - Making the predictions and visualising the results"
   ]
  },
  {
   "cell_type": "markdown",
   "id": "347026e8-002e-41d7-bc45-d1493d4a6516",
   "metadata": {},
   "source": [
    "### Getting the real stock price of 2017"
   ]
  },
  {
   "cell_type": "code",
   "execution_count": 41,
   "id": "1dcd467d-44bd-4443-af8a-52bbf338dc6c",
   "metadata": {},
   "outputs": [],
   "source": [
    "dataset_test = pd.read_csv('Google_Stock_Price_Test.csv')\n",
    "real_stock_price = dataset_test.iloc[:, 1:2].values"
   ]
  },
  {
   "cell_type": "markdown",
   "id": "a6e13716-8800-4074-bc03-c97eb9277ea9",
   "metadata": {},
   "source": [
    "### Getting the predicted stock price of 2017"
   ]
  },
  {
   "cell_type": "code",
   "execution_count": 42,
   "id": "254383b9-534a-4e15-9e17-1418db8f4eb9",
   "metadata": {},
   "outputs": [
    {
     "name": "stdout",
     "output_type": "stream",
     "text": [
      "1/1 [==============================] - 4s 4s/step\n"
     ]
    }
   ],
   "source": [
    "dataset_total = pd.concat((dataset_train['Open'], dataset_test['Open']), axis = 0)\n",
    "inputs = dataset_total[len(dataset_total) - len(dataset_test) - 60:].values\n",
    "inputs = inputs.reshape(-1,1)\n",
    "inputs = sc.transform(inputs)\n",
    "X_test = []\n",
    "for i in range(60, 80):\n",
    "    X_test.append(inputs[i-60:i, 0])\n",
    "X_test = np.array(X_test)\n",
    "X_test = np.reshape(X_test, (X_test.shape[0], X_test.shape[1], 1))\n",
    "predicted_stock_price = regressor.predict(X_test)\n",
    "predicted_stock_price = sc.inverse_transform(predicted_stock_price)"
   ]
  },
  {
   "cell_type": "markdown",
   "id": "467d3930-8ae8-42b0-9927-752387500d68",
   "metadata": {},
   "source": [
    "### Visualising the results"
   ]
  },
  {
   "cell_type": "code",
   "execution_count": 43,
   "id": "e83c6387-d714-495c-97a6-00d599f9dbf9",
   "metadata": {},
   "outputs": [
    {
     "data": {
      "image/png": "[encoded data removed]",
      "text/plain": [
       "<Figure size 640x480 with 1 Axes>"
      ]
     },
     "metadata": {},
     "output_type": "display_data"
    }
   ],
   "source": [
    "plt.plot(real_stock_price, color = 'red', label = 'Real Google Stock Price')\n",
    "plt.plot(predicted_stock_price, color = 'blue', label = 'Predicted Google Stock Price')\n",
    "plt.title('Google Stock Price Prediction')\n",
    "plt.xlabel('Time')\n",
    "plt.ylabel('Google Stock Price')\n",
    "plt.legend()\n",
    "plt.show()"
   ]
  }
 ],
 "metadata": {
  "kernelspec": {
   "display_name": "Python 3 (ipykernel)",
   "language": "python",
   "name": "python3"
  },
  "language_info": {
   "codemirror_mode": {
    "name": "ipython",
    "version": 3
   },
   "file_extension": ".py",
   "mimetype": "text/x-python",
   "name": "python",
   "nbconvert_exporter": "python",
   "pygments_lexer": "ipython3",
   "version": "3.11.5"
  }
 },
 "nbformat": 4,
 "nbformat_minor": 5
}
